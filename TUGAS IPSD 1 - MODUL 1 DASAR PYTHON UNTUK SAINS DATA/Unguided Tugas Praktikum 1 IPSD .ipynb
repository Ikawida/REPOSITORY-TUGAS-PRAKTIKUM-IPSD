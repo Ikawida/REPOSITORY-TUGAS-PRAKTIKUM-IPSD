{
 "cells": [
  {
   "cell_type": "markdown",
   "id": "33908e8c",
   "metadata": {},
   "source": [
    "### 1. Buatlah program yang dapat menghasilkan pola berbentuk angka seperti di bawah ini, dengan syarat angka yang ditampilkan adalah hasil dari penjumlahan bilangan prima sebelumnya:\n",
    "\n",
    "```\n",
    "1\n",
    "2 3\n",
    "5 7 11\n",
    "13 17 19 23\n",
    "...\n",
    "```\n",
    "### Jumlah angka pada setiap baris bertambah 1, dan bilangan yang ditampilkan adalah bilangan prima."
   ]
  },
  {
   "cell_type": "code",
   "execution_count": 5,
   "id": "ef02e9d0",
   "metadata": {},
   "outputs": [
    {
     "name": "stdout",
     "output_type": "stream",
     "text": [
      "1\n",
      "2 3 \n",
      "5 7 11 \n",
      "13 17 19 23 \n"
     ]
    }
   ],
   "source": [
    "# SOAL NOMOR 1\n",
    "\n",
    "# Fungsi untuk memeriksa apakah sebuah angka termasuk bilangan prima atau bukan\n",
    "def is_prime(num):\n",
    "    if num < 2:\n",
    "        return False\n",
    "    for i in range(2, int(num**0.5) + 1):\n",
    "        if num % i == 0:\n",
    "            return False\n",
    "    return True\n",
    "\n",
    "# Fungsi untuk menghasilkan bilangan prima dalam jumlah tertentu\n",
    "def generate_primes(n):\n",
    "    primes = []\n",
    "    num = 2\n",
    "    while len(primes) < n:\n",
    "        if is_prime(num):\n",
    "            primes.append(num)\n",
    "        num += 1\n",
    "    return primes\n",
    "\n",
    "# Fungsi utama untuk menghasilkan pola angka\n",
    "def generate_pattern():\n",
    "    rows = 4  # Jumlah baris dalam pola\n",
    "    total_elements = sum(range(1, rows + 1)) - 1  # Jumlah total bilangan prima (baris pertama manual berisi 1)\n",
    "    \n",
    "    primes = generate_primes(total_elements)  # Menghasilkan bilangan prima yang diperlukan\n",
    "    index = 0\n",
    "    \n",
    "    # Mencetak angka 1 secara manual untuk baris pertama\n",
    "    print(1)\n",
    "    \n",
    "    # Memulai dari baris kedua dengan bilangan prima\n",
    "    for i in range(2, rows + 1):\n",
    "        for j in range(i):\n",
    "            print(primes[index], end=\" \")\n",
    "            index += 1\n",
    "        print()  # Pindah ke baris berikutnya\n",
    "\n",
    "# Menjalankan fungsi untuk menghasilkan pola\n",
    "generate_pattern()"
   ]
  },
  {
   "cell_type": "markdown",
   "id": "a3ba5d7d",
   "metadata": {},
   "source": [
    "INTERPRETASI: Kode tersebut menghasilkan pola angka dengan bilangan prima. Total bilangan prima yang diperlukan dihitung berdasarkan jumlah elemen di setiap baris, kemudian dicetak dalam pola bertahap: baris pertama berisi 1, baris kedua berisi 2 bilangan prima, baris ketiga berisi 3, dan seterusnya."
   ]
  },
  {
   "cell_type": "markdown",
   "id": "b123c60e",
   "metadata": {},
   "source": [
    "### 2. Buatlah sebuah fungsi yang menerima dua input berupa list angka. Fungsi ini harus mengembalikan sebuah list baru yang berisi elemen dari dua list input yang memiliki indeks ganjil. List baru tersebut juga harus diurutkan secara menurun berdasarkan nilai elemen."
   ]
  },
  {
   "cell_type": "code",
   "execution_count": 6,
   "id": "e2ba2db0",
   "metadata": {},
   "outputs": [
    {
     "name": "stdout",
     "output_type": "stream",
     "text": [
      "List baru yang terbentuk adalah: [45, 40, 25, 20]\n"
     ]
    }
   ],
   "source": [
    "# SOAL NOMOR 2\n",
    "\n",
    "def odd_index_elements_desc(list1, list2):\n",
    "    # Mengambil elemen dari indeks ganjil\n",
    "    result = list1[1::2] + list2[1::2]\n",
    "    \n",
    "    # Mengurutkan secara menurun\n",
    "    result.sort(reverse=True)\n",
    "    \n",
    "    return result\n",
    "\n",
    "# Input 2 list angka\n",
    "list1 = [10, 20, 30, 40, 50]\n",
    "list2 = [15, 25, 35, 45, 55]\n",
    "\n",
    "# Mengambil elemen dari indeks ganjil \n",
    "new_list = odd_index_elements_desc(list1, list2)\n",
    "\n",
    "# Menampilkan list baru yang terbentuk\n",
    "print(f\"List baru yang terbentuk adalah: {new_list}\")"
   ]
  },
  {
   "cell_type": "markdown",
   "id": "69984b40",
   "metadata": {},
   "source": [
    "INTERPRETASI: Program di atas mendefinisikan sebuah fungsi bernama `odd_index_elements_desc()` yang bertujuan untuk mengambil elemen-elemen dari dua list input (`list1` dan `list2`) yang berada pada indeks ganjil, lalu mengurutkannya secara menurun. Fungsi ini pertama-tama menyeleksi elemen-elemen dari kedua list yang terletak pada indeks ganjil menggunakan slicing (`list1[1::2]` dan `list2[1::2]`), kemudian menggabungkan elemen-elemen tersebut menjadi satu list. Setelah itu, elemen-elemen dalam list hasil penggabungan diurutkan secara descending menggunakan metode `sort(reverse=True)`. Ketika fungsi ini dijalankan dengan dua list input, misalnya `list1 = [10, 20, 30, 40, 50]` dan `list2 = [15, 25, 35, 45, 55]`, elemen-elemen yang berada pada indeks ganjil, yaitu 20, 40 dari `list1` dan 25, 45 dari `list2`, akan digabung dan diurutkan menjadi `[45, 40, 25, 20]`. Hasil ini kemudian dikembalikan dan dicetak sebagai list baru yang sudah diurutkan secara menurun."
   ]
  },
  {
   "cell_type": "markdown",
   "id": "96635b7b",
   "metadata": {},
   "source": [
    "### 3. Buat sebuah program untuk mensimulasikan transaksi ATM. Program harus: \n",
    "- Meminta pengguna memasukkan PIN (dibatasi 3 kali percobaan). \n",
    "- Setelah PIN benar, meminta jumlah penarikan. \n",
    "- Jika saldo kurang dari jumlah yang ditarik, munculkan pesan kesalahan. \n",
    "- Jika penarikan berhasil, tampilkan saldo akhir."
   ]
  },
  {
   "cell_type": "code",
   "execution_count": 1,
   "id": "3f616772",
   "metadata": {},
   "outputs": [
    {
     "name": "stdout",
     "output_type": "stream",
     "text": [
      "Masukkan PIN Anda: 2311110001\n",
      "PIN benar\n",
      "Masukkan jumlah penarikan: 1000000\n",
      "Penarikan berhasil. Sisa saldo Anda: Rp 4000000.00\n"
     ]
    }
   ],
   "source": [
    "# SOAL NOMOR 3\n",
    "\n",
    "# Fungsi untuk memeriksa PIN\n",
    "def check_pin(correct_pin, max_attempts=3):\n",
    "    attempts = 0\n",
    "    while attempts < max_attempts:\n",
    "        entered_pin = input(\"Masukkan PIN Anda: \")\n",
    "        if entered_pin == correct_pin:\n",
    "            return True\n",
    "        else:\n",
    "            attempts += 1\n",
    "            print(f\"PIN salah. Percobaan {attempts}/{max_attempts}.\")\n",
    "    return False\n",
    "\n",
    "# Fungsi untuk mensimulasikan penarikan uang dari saldo\n",
    "def withdraw(saldo):\n",
    "    try:\n",
    "        amount = float(input(\"Masukkan jumlah penarikan: \"))\n",
    "        if amount > saldo:\n",
    "            print(\"Saldo tidak mencukupi\")\n",
    "        else:\n",
    "            saldo -= amount\n",
    "            print(f\"Penarikan berhasil. Sisa saldo Anda: Rp {saldo:.2f}\")\n",
    "    except ValueError:\n",
    "        print(\"Input tidak valid. Masukkan jumlah angka yang benar.\")\n",
    "    return saldo\n",
    "\n",
    "# Fungsi utama simulasi ATM\n",
    "def atm_simulation():\n",
    "    correct_pin = \"2311110001\"  # PIN yang benar untuk simulasi\n",
    "    saldo = 5000000.00 # Saldo awal\n",
    "    \n",
    "    # Memeriksa PIN\n",
    "    if check_pin(correct_pin):\n",
    "        print(\"PIN benar\")\n",
    "        saldo = withdraw(saldo)\n",
    "    else:\n",
    "        print(\"Akses diblokir setelah 3 kali percobaan PIN salah\")\n",
    "\n",
    "# Menjalankan program\n",
    "atm_simulation()"
   ]
  },
  {
   "cell_type": "markdown",
   "id": "8fcc0a7c",
   "metadata": {},
   "source": [
    "INTERPRETASI: Program ini mensimulasikan proses ATM sederhana yang terdiri dari pemeriksaan PIN dan penarikan saldo. Fungsi `check_pin()` memeriksa apakah PIN yang dimasukkan pengguna benar, dengan maksimal tiga percobaan. Jika pengguna gagal, akses diblokir. Jika PIN benar, fungsi `withdraw()` memungkinkan pengguna untuk menarik uang dari saldo yang tersedia. Fungsi ini memverifikasi bahwa jumlah penarikan tidak melebihi saldo, dan menampilkan sisa saldo setelah penarikan."
   ]
  },
  {
   "cell_type": "markdown",
   "id": "fdbba8be",
   "metadata": {},
   "source": [
    "### 4. Anda diberikan file CSV berisi data nilai ujian mahasiswa. Tugas Anda adalah menulis sebuah program yang: \n",
    "- Membaca file CSV dan menyimpan datanya ke dalam dictionary. \n",
    "- Menghitung rata-rata nilai tiap mahasiswa. \n",
    "- Menampilkan mahasiswa dengan nilai tertinggi dan terendah."
   ]
  },
  {
   "cell_type": "code",
   "execution_count": 8,
   "id": "8cda7a5c",
   "metadata": {},
   "outputs": [
    {
     "name": "stdout",
     "output_type": "stream",
     "text": [
      "Data Nilai Mahasiswa:\n",
      "Siswa 1: Nilai 59\n",
      "Siswa 2: Nilai 79\n",
      "Siswa 3: Nilai 61\n",
      "Siswa 4: Nilai 74\n",
      "Siswa 5: Nilai 50\n",
      "Siswa 6: Nilai 70\n",
      "Siswa 7: Nilai 100\n",
      "Siswa 8: Nilai 84\n",
      "Siswa 9: Nilai 78\n",
      "Siswa 10: Nilai 61\n",
      "Siswa 11: Nilai 92\n",
      "Siswa 12: Nilai 60\n",
      "Siswa 13: Nilai 78\n",
      "Siswa 14: Nilai 87\n",
      "Siswa 15: Nilai 57\n",
      "Siswa 16: Nilai 73\n",
      "Siswa 17: Nilai 53\n",
      "Siswa 18: Nilai 54\n",
      "Siswa 19: Nilai 97\n",
      "Siswa 20: Nilai 52\n",
      "Siswa 21: Nilai 84\n",
      "Siswa 22: Nilai 89\n",
      "Siswa 23: Nilai 52\n",
      "Siswa 24: Nilai 90\n",
      "Siswa 25: Nilai 52\n",
      "Siswa 26: Nilai 64\n",
      "Siswa 27: Nilai 96\n",
      "Siswa 28: Nilai 100\n",
      "Siswa 29: Nilai 84\n",
      "Siswa 30: Nilai 60\n",
      "Siswa 31: Nilai 85\n",
      "Siswa 32: Nilai 63\n",
      "Siswa 33: Nilai 64\n",
      "Siswa 34: Nilai 68\n",
      "Siswa 35: Nilai 67\n",
      "Siswa 36: Nilai 52\n",
      "Siswa 37: Nilai 79\n",
      "Siswa 38: Nilai 55\n",
      "Siswa 39: Nilai 88\n",
      "Siswa 40: Nilai 95\n",
      "Siswa 41: Nilai 78\n",
      "Siswa 42: Nilai 66\n",
      "Siswa 43: Nilai 71\n",
      "Siswa 44: Nilai 64\n",
      "Siswa 45: Nilai 51\n",
      "Siswa 46: Nilai 77\n",
      "Siswa 47: Nilai 90\n",
      "Siswa 48: Nilai 83\n",
      "Siswa 49: Nilai 99\n",
      "Siswa 50: Nilai 56\n",
      "Siswa 51: Nilai 68\n",
      "Siswa 52: Nilai 88\n",
      "Siswa 53: Nilai 62\n",
      "Siswa 54: Nilai 98\n",
      "Siswa 55: Nilai 58\n",
      "Siswa 56: Nilai 92\n",
      "Siswa 57: Nilai 60\n",
      "Siswa 58: Nilai 55\n",
      "Siswa 59: Nilai 93\n",
      "Siswa 60: Nilai 60\n",
      "Siswa 61: Nilai 53\n",
      "Siswa 62: Nilai 79\n",
      "Siswa 63: Nilai 75\n",
      "Siswa 64: Nilai 83\n",
      "Siswa 65: Nilai 58\n",
      "Siswa 66: Nilai 50\n",
      "Siswa 67: Nilai 75\n",
      "Siswa 68: Nilai 61\n",
      "Siswa 69: Nilai 57\n",
      "Siswa 70: Nilai 98\n",
      "Siswa 71: Nilai 85\n",
      "Siswa 72: Nilai 57\n",
      "Siswa 73: Nilai 53\n",
      "Siswa 74: Nilai 55\n",
      "Siswa 75: Nilai 54\n",
      "Siswa 76: Nilai 64\n",
      "Siswa 77: Nilai 51\n",
      "Siswa 78: Nilai 65\n",
      "Siswa 79: Nilai 68\n",
      "Siswa 80: Nilai 51\n",
      "Siswa 81: Nilai 99\n",
      "Siswa 82: Nilai 89\n",
      "Siswa 83: Nilai 92\n",
      "Siswa 84: Nilai 56\n",
      "Siswa 85: Nilai 96\n",
      "Siswa 86: Nilai 79\n",
      "Siswa 87: Nilai 76\n",
      "Siswa 88: Nilai 71\n",
      "Siswa 89: Nilai 98\n",
      "Siswa 90: Nilai 89\n",
      "Siswa 91: Nilai 92\n",
      "Siswa 92: Nilai 65\n",
      "Siswa 93: Nilai 50\n",
      "Siswa 94: Nilai 84\n",
      "Siswa 95: Nilai 67\n",
      "Siswa 96: Nilai 59\n",
      "Siswa 97: Nilai 57\n",
      "Siswa 98: Nilai 70\n",
      "Siswa 99: Nilai 66\n",
      "Siswa 100: Nilai 78\n",
      "\n",
      "Rata-rata Nilai Mahasiswa: 72.00\n",
      "\n",
      "Mahasiswa dengan nilai tertinggi adalah siswa nomor: 7, 28\n",
      "Nilainya: 100\n",
      "\n",
      "Mahasiswa dengan nilai terendah adalah siswa nomor: 5, 66, 93\n",
      "Nilainya: 50\n"
     ]
    }
   ],
   "source": [
    "# SOAL NOMOR 4\n",
    "\n",
    "import pandas as pd\n",
    "\n",
    "# Membaca file CSV\n",
    "file_path = 'siswa_nilai.csv'  \n",
    "data = pd.read_csv(file_path)\n",
    "\n",
    "# Menampilkan data mahasiswa dan nilainya secara langsung\n",
    "print(\"Data Nilai Mahasiswa:\")\n",
    "for idx, row in data.iterrows():\n",
    "    print(f\"Siswa {idx + 1}: Nilai {row['Nilai']}\")\n",
    "\n",
    "# Menyimpan data ke dalam dictionary\n",
    "data_dict = dict(zip(data['Nama Siswa'], data['Nilai']))\n",
    "\n",
    "# Menghitung rata-rata nilai mahasiswa\n",
    "average_score = data['Nilai'].mean()\n",
    "\n",
    "# Menemukan nilai tertinggi dan terendah dari data nilai mahasiswa\n",
    "max_score = data['Nilai'].max() # Menemukan nilai tertinggi\n",
    "min_score = data['Nilai'].min() # Menemukan nilai terendah\n",
    "\n",
    "students_with_highest_score = data[data['Nilai'] == max_score].index + 1 # Menemukan mahasiswa dengan nilai tertinggi\n",
    "students_with_lowest_score = data[data['Nilai'] == min_score].index + 1  # Menemukan mahasiswa dengan nilai terendah\n",
    "\n",
    "# Menampilkan rata-rata nilai mahasiswa\n",
    "print(\"\\nRata-rata Nilai Mahasiswa: {:.2f}\".format(average_score))\n",
    "\n",
    "# Menampilkan mahasiswa dengan nilai tertinggi\n",
    "print(\"\\nMahasiswa dengan nilai tertinggi adalah siswa nomor: {}\".format(\", \".join(map(str, students_with_highest_score))))\n",
    "print(f\"Nilainya: {max_score}\")\n",
    "\n",
    "# Menampilkan mahasiswa dengan nilai terendah\n",
    "print(\"\\nMahasiswa dengan nilai terendah adalah siswa nomor: {}\".format(\", \".join(map(str, students_with_lowest_score))))\n",
    "print(f\"Nilainya: {min_score}\")"
   ]
  },
  {
   "cell_type": "markdown",
   "id": "3dad7e6e",
   "metadata": {},
   "source": [
    "INTERPRETASI: Program ini membaca data nilai mahasiswa dari file CSV dan menyimpannya ke dalam struktur data `pandas DataFrame`. Setiap siswa dan nilainya akan ditampilkan secara langsung. Selanjutnya, program ini menyimpan data dalam bentuk dictionary, menghitung rata-rata nilai mahasiswa, dan menemukan nilai tertinggi serta terendah. Setelah itu, program juga menampilkan nomor siswa yang memiliki nilai tertinggi dan terendah, serta mencetak rata-rata nilai mahasiswa. "
   ]
  },
  {
   "cell_type": "markdown",
   "id": "6a39becd",
   "metadata": {},
   "source": [
    "### 5. Buatlah permainan sederhana menggunakan Python, di mana komputer akan memilih sebuah angka secara acak antara 1 hingga 100, dan pengguna harus menebak angka tersebut. Setiap tebakan yang salah akan memberikan petunjuk apakah angka yang ditebak lebih besar atau lebih kecil dari angka sebenarnya. Batasi jumlah percobaan menjadi 5 kali. Setelah permainan selesai, tampilkan apakah pemain menang atau kalah."
   ]
  },
  {
   "cell_type": "code",
   "execution_count": 2,
   "id": "df38049a",
   "metadata": {},
   "outputs": [
    {
     "name": "stdout",
     "output_type": "stream",
     "text": [
      "Selamat datang di permainan Tebak Angka!\n",
      "Saya telah memilih sebuah angka antara 1 hingga 100\n",
      "Anda memiliki 5 kali kesempatan untuk menebaknya\n",
      "Tebakan 1: Masukkan angka (1-100): 93\n",
      "Tebakan Anda terlalu besar\n",
      "Tebakan 2: Masukkan angka (1-100): 69\n",
      "Tebakan Anda terlalu besar\n",
      "Tebakan 3: Masukkan angka (1-100): 47\n",
      "Tebakan Anda terlalu besar\n",
      "Tebakan 4: Masukkan angka (1-100): 23\n",
      "Tebakan Anda terlalu kecil\n",
      "Tebakan 5: Masukkan angka (1-100): 35\n",
      "Tebakan Anda terlalu kecil\n",
      "Maaf, Anda kehabisan kesempatan. Angka yang benar adalah 38.\n",
      "Anda kalah pada permainan kali ini!\n"
     ]
    }
   ],
   "source": [
    "# SOAL NOMOR 5\n",
    "\n",
    "import random  # Mengimpor modul random untuk menghasilkan angka acak\n",
    "\n",
    "def tebak_angka():\n",
    "    # Komputer memilih angka acak antara 1 hingga 100\n",
    "    angka_rahasia = random.randint(1, 100)\n",
    "    \n",
    "    # Batasi jumlah percobaan menebak menjadi 5 kali\n",
    "    percobaan = 5  \n",
    "    \n",
    "    # Pesan pembukaan permainan\n",
    "    print(\"Selamat datang di permainan Tebak Angka!\")\n",
    "    print(\"Saya telah memilih sebuah angka antara 1 hingga 100\")\n",
    "    print(f\"Anda memiliki {percobaan} kali kesempatan untuk menebaknya\")\n",
    "    \n",
    "    # Memulai loop permainan, memberikan pemain 5 kesempatan untuk menebak\n",
    "    for kesempatan in range(1, percobaan + 1):\n",
    "        try:\n",
    "            # Meminta input dari pemain, dan memastikan input tersebut berupa integer\n",
    "            tebakan = int(input(f\"Tebakan {kesempatan}: Masukkan angka (1-100): \"))\n",
    "            \n",
    "            # Memastikan input pemain berada dalam rentang 1 hingga 100\n",
    "            if tebakan < 1 or tebakan > 100:\n",
    "                print(\"Mohon masukkan angka antara 1 dan 100\")\n",
    "                continue  # Jika di luar rentang, diminta input ulang\n",
    "            \n",
    "            # Memeriksa apakah tebakan benar\n",
    "            if tebakan == angka_rahasia:\n",
    "                print(f\"Selamat! Anda menebak angka yang benar: {angka_rahasia}\")\n",
    "                print(f\"Anda menang pada permainan kali ini!\")\n",
    "                break  # Jika benar, permainan berakhir\n",
    "            elif tebakan < angka_rahasia:\n",
    "                print(\"Tebakan Anda terlalu kecil\")  # Jika tebakan terlalu rendah\n",
    "            else:\n",
    "                print(\"Tebakan Anda terlalu besar\")  # Jika tebakan terlalu tinggi\n",
    "        \n",
    "        except ValueError:\n",
    "            # Menangani input yang bukan angka\n",
    "            print(\"Mohon masukkan angka yang valid\")\n",
    "            continue  # Kembali meminta input jika input salah\n",
    "        \n",
    "    else:\n",
    "        # Jika semua kesempatan habis dan angka belum ditebak dengan benar\n",
    "        print(f\"Maaf, Anda kehabisan kesempatan. Angka yang benar adalah {angka_rahasia}.\")\n",
    "        print(\"Anda kalah pada permainan kali ini!\")\n",
    "\n",
    "# Menjalankan permainan\n",
    "tebak_angka()"
   ]
  },
  {
   "cell_type": "markdown",
   "id": "95589a49",
   "metadata": {},
   "source": [
    "INTERPRETASI: Program ini adalah permainan tebak angka di mana komputer memilih angka acak antara 1 hingga 100, dan pemain memiliki lima kesempatan untuk menebaknya. Pemain diminta memasukkan tebakan, dan program akan memberi tahu apakah tebakan tersebut benar, terlalu kecil, atau terlalu besar. Diakhir permainan program akan memberitahu pemain apakah mereka menang atau kalah. "
   ]
  },
  {
   "cell_type": "markdown",
   "id": "4bbce2e5",
   "metadata": {},
   "source": [
    "### 6. Buat fungsi rekursif yang menerima input bilangan bulat `n` dan menghasilkan urutan bilangan seperti berikut ini:\n",
    "```\n",
    "Input: n = 4\n",
    "Output: 1, 1, 2, 6, 24\n",
    "```\n",
    "### Fungsi ini harus menggunakan konsep rekursi untuk menghitung faktorial setiap angka hingga `n"
   ]
  },
  {
   "cell_type": "code",
   "execution_count": 18,
   "id": "b55fc06f",
   "metadata": {},
   "outputs": [
    {
     "name": "stdout",
     "output_type": "stream",
     "text": [
      "Input: n = 4\n",
      "Output: 1, 1, 2, 6, 24\n"
     ]
    }
   ],
   "source": [
    "# SOAL NOMOR 6\n",
    "\n",
    "# Fungsi rekursif untuk menghitung faktorial\n",
    "def faktorial(n):\n",
    "\n",
    "    if n == 0 or n == 1:  # Basis rekursi: faktorial 0 dan 1 adalah 1\n",
    "        return 1\n",
    "    else:\n",
    "        return n * faktorial(n - 1)  # Rekursi: n * faktorial(n-1)\n",
    "\n",
    "# Fungsi untuk menghasilkan urutan faktorial hingga n\n",
    "def urutan_faktorial(n):\n",
    "    \n",
    "    hasil = []  # List untuk menyimpan hasil faktorial\n",
    "    for i in range(n + 1):  # Iterasi dari 0 hingga n\n",
    "        hasil.append(faktorial(i))  # Menghitung faktorial setiap angka hingga n\n",
    "    return hasil\n",
    "\n",
    "# Menyediakan input dan mencetak output\n",
    "def main():\n",
    "    try:\n",
    "        n = int(input(\"Input: n = \"))  # Menerima input dari pengguna dan mengonversinya ke integer\n",
    "        if n < 0:\n",
    "            print(\"Bilangan harus >= 0\")\n",
    "        else:\n",
    "            output = urutan_faktorial(n)  # Menghasilkan urutan faktorial hingga n\n",
    "            print(\"Output:\", \", \".join(map(str, output)))  # Mencetak hasil sebagai string, dipisahkan oleh koma\n",
    "    except ValueError:\n",
    "        print(\"Input tidak valid. Harap masukkan bilangan bulat\")\n",
    "\n",
    "# Menjalankan fungsi utama jika file dijalankan sebagai skrip utama\n",
    "if __name__ == \"__main__\":\n",
    "    main()"
   ]
  },
  {
   "cell_type": "markdown",
   "id": "1d526c52",
   "metadata": {},
   "source": [
    "INTERPRETASI: Program ini menghitung urutan faktorial dari angka 0 hingga n menggunakan fungsi rekursif. Fungsi `faktorial(n)` menghitung faktorial dengan dasar rekursi untuk n = 0 dan n = 1, yang hasilnya adalah 1. Fungsi `urutan_faktorial(n)` mengiterasi dari 0 hingga n, memanggil fungsi faktorial untuk setiap angka, dan menyimpan hasilnya dalam sebuah list. Fungsi utama `main()` menerima input dari pengguna, memastikan bahwa input adalah bilangan bulat non-negatif, dan jika valid, mencetak urutan faktorial dalam format yang mudah dibaca. Jika input tidak valid, program akan memberikan pesan kesalahan."
   ]
  },
  {
   "cell_type": "markdown",
   "id": "4023a60d",
   "metadata": {},
   "source": [
    "### 7. Buatlah program untuk memecahkan masalah \"minimum coin change\". Diberikan jumlah uang dan daftar nilai koin yang tersedia (misalnya, 1, 5, 10, 25), tentukan kombinasi minimum koin yang diperlukan untuk mencapai jumlah uang tersebut. Namun, program Anda harus bisa menangani koin-koin yang nilai dan jumlahnya ditentukan pengguna."
   ]
  },
  {
   "cell_type": "code",
   "execution_count": 13,
   "id": "8f51e847",
   "metadata": {},
   "outputs": [
    {
     "name": "stdout",
     "output_type": "stream",
     "text": [
      "Masukkan jumlah uang yang ingin dicapai: 93\n",
      "Masukkan daftar nilai koin (pisahkan dengan spasi): 1 5 10 25\n",
      "Koin yang digunakan: [1, 1, 1, 5, 10, 25, 25, 25]\n"
     ]
    }
   ],
   "source": [
    "# SOAL NOMOR 7\n",
    "\n",
    "def min_coin_change(total, coins):\n",
    "    \n",
    "    # Inisialisasi DP table untuk menyimpan jumlah minimum koin untuk setiap nilai dari 0 hingga total\n",
    "    dp = [float('inf')] * (total + 1)\n",
    "    dp[0] = 0  # Basis: 0 koin diperlukan untuk mencapai total 0\n",
    "    \n",
    "    # Inisialisasi table untuk melacak koin yang digunakan\n",
    "    used_coins = [0] * (total + 1)\n",
    "    \n",
    "    # Mengisi DP table\n",
    "    for i in range(1, total + 1):\n",
    "        for coin in coins:\n",
    "            if i - coin >= 0 and dp[i - coin] != float('inf'):\n",
    "                if dp[i - coin] + 1 < dp[i]:\n",
    "                    dp[i] = dp[i - coin] + 1\n",
    "                    used_coins[i] = coin\n",
    "    \n",
    "    # Jika dp[total] masih inf, artinya tidak mungkin mencapai jumlah uang tersebut\n",
    "    if dp[total] == float('inf'):\n",
    "        return \"Tidak mungkin mencapai jumlah uang tersebut dengan koin yang tersedia\"\n",
    "    \n",
    "    # Menentukan kombinasi koin yang digunakan\n",
    "    result = []\n",
    "    while total > 0:\n",
    "        result.append(used_coins[total])\n",
    "        total -= used_coins[total]\n",
    "    \n",
    "    return result\n",
    "\n",
    "def main():\n",
    "    try:\n",
    "        total = int(input(\"Masukkan jumlah uang yang ingin dicapai: \"))  # Input jumlah uang\n",
    "        coins = list(map(int, input(\"Masukkan daftar nilai koin (pisahkan dengan spasi): \").split()))  # Input daftar koin\n",
    "        \n",
    "        if total < 0 or any(coin <= 0 for coin in coins):\n",
    "            print(\"Jumlah uang dan nilai koin harus lebih besar dari 0\")\n",
    "        else:\n",
    "            result = min_coin_change(total, coins)\n",
    "            print(\"Koin yang digunakan:\", result)\n",
    "    except ValueError:\n",
    "        print(\"Input tidak valid. Harap masukkan bilangan bulat yang sesuai.\")\n",
    "\n",
    "if __name__ == \"__main__\":\n",
    "    main()"
   ]
  },
  {
   "cell_type": "markdown",
   "id": "a7f95e34",
   "metadata": {},
   "source": [
    "INTERPRETASI: Program ini bertujuan untuk menentukan kombinasi koin yang diperlukan untuk mencapai jumlah uang tertentu dengan menggunakan jumlah minimum koin dari daftar yang diberikan. Fungsi `min_coin_change(total, coins)` menerapkan pendekatan pemrograman dinamis untuk menghitung jumlah koin yang diperlukan, dengan tabel `dp` menyimpan jumlah minimum koin untuk setiap nilai dari 0 hingga `total`. Program memvalidasi input untuk memastikan jumlah uang dan nilai koin positif, lalu mengisi tabel untuk menemukan solusi. Jika jumlah tidak dapat dicapai, program memberikan pesan yang sesuai. Setelah itu, program melacak koin yang digunakan dan mencetak kombinasi tersebut. "
   ]
  },
  {
   "cell_type": "markdown",
   "id": "ecb39d78",
   "metadata": {},
   "source": [
    "### 8. Buat sebuah program yang menerima string dari pengguna dan mengonversi string tersebut menjadi sebuah list berisi kata-kata terbalik. Misalnya:\n",
    "```\n",
    "Input: \"Saya suka Python\"\n",
    "Output: [\"ayaS\", \"akus\", \"nohtyP\"]\n",
    "```"
   ]
  },
  {
   "cell_type": "code",
   "execution_count": 12,
   "id": "5a479c8c",
   "metadata": {},
   "outputs": [
    {
     "name": "stdout",
     "output_type": "stream",
     "text": [
      "Input: Saya Suka Python\n",
      "Output: ['ayaS', 'akuS', 'nohtyP']\n"
     ]
    }
   ],
   "source": [
    "# SOAL NOMOR 8\n",
    "\n",
    "def reverse_words(input_string):\n",
    "   \n",
    "    # Memecah string input menjadi daftar kata-kata\n",
    "    words = input_string.split()\n",
    "    \n",
    "    # Membalikkan setiap kata dalam daftar kata-kata\n",
    "    reversed_words = [word[::-1] for word in words]\n",
    "    \n",
    "    return reversed_words\n",
    "\n",
    "def main():\n",
    "    # Menerima input string dari pengguna\n",
    "    input_string = input(\"Input: \")\n",
    "    \n",
    "    # Mendapatkan list kata-kata terbalik\n",
    "    result = reverse_words(input_string)\n",
    "    \n",
    "    # Menampilkan hasil\n",
    "    print(\"Output:\", result)\n",
    "\n",
    "# Menjalankan fungsi utama jika file dijalankan sebagai skrip utama\n",
    "if __name__ == \"__main__\":\n",
    "    main()"
   ]
  },
  {
   "cell_type": "markdown",
   "id": "ec391680",
   "metadata": {},
   "source": [
    "INTERPRETASI: Program ini menerima sebuah string dari pengguna dan membalikkan setiap kata di dalamnya. Fungsi `reverse_words(input_string)` memecah string input menjadi daftar kata-kata menggunakan metode `split()`, kemudian membalikkan setiap kata dengan slicing (`word[::-1]`). Hasilnya adalah daftar kata yang telah dibalik. Fungsi `main()` menangani input dari pengguna dan memanggil `reverse_words()` untuk mendapatkan daftar kata terbalik, yang kemudian dicetak sebagai output. "
   ]
  },
  {
   "cell_type": "markdown",
   "id": "5f758747",
   "metadata": {},
   "source": [
    "### 9. Buat class bernama `Buku` yang memiliki atribut `judul`, `penulis`, dan `tahun_terbit`. Buat method dalam class untuk menampilkan informasi buku, serta method untuk menghitung usia buku berdasarkan tahun saat ini. Buatlah 3 objek dari class `Buku` dan tampilkan informasi serta usia masing-masing buku."
   ]
  },
  {
   "cell_type": "code",
   "execution_count": 3,
   "id": "46bc68ba",
   "metadata": {},
   "outputs": [
    {
     "name": "stdout",
     "output_type": "stream",
     "text": [
      "Judul: Insecurity is My Middle Name\n",
      "Penulis: Alvi Syahrin\n",
      "Tahun Terbit: 2021\n",
      "Usia Buku: 3 tahun\n",
      "\n",
      "Judul: Filosofi Teras\n",
      "Penulis: Henry Manampiring\n",
      "Tahun Terbit: 2018\n",
      "Usia Buku: 6 tahun\n",
      "\n",
      "Judul: Laut Bercerita\n",
      "Penulis: Leila S. Chudori\n",
      "Tahun Terbit: 2017\n",
      "Usia Buku: 7 tahun\n",
      "\n"
     ]
    }
   ],
   "source": [
    "# SOAL NOMOR 9\n",
    "\n",
    "from datetime import datetime\n",
    "\n",
    "# Membuat class untuk buku\n",
    "class Buku:\n",
    "    \n",
    "    # Konstruktor untuk menginisialisasi atribut buku\n",
    "    def __init__(self, judul, penulis, tahun_terbit):\n",
    "        \n",
    "        # Menginisialisasi identitas buku yaitu judul, penulis, dan tahun terbit\n",
    "        self.judul = judul\n",
    "        self.penulis = penulis\n",
    "        self.tahun_terbit = tahun_terbit\n",
    "    \n",
    "    # Method untuk menampilkan informasi buku\n",
    "    def tampilkan_informasi(self):\n",
    "        \n",
    "        print(f\"Judul: {self.judul}\") # Menampilkan judul buku\n",
    "        print(f\"Penulis: {self.penulis}\") # Menampilkan penulis buku\n",
    "        print(f\"Tahun Terbit: {self.tahun_terbit}\") # Menampilkan tahun terbit buku\n",
    "    \n",
    "    # Method untuk menghitung usia buku\n",
    "    def hitung_usia_buku(self):\n",
    "       \n",
    "        tahun_sekarang = datetime.now().year # Mengambil tahun saat ini\n",
    "        return tahun_sekarang - self.tahun_terbit # Menghitung dan mengembalikan usia buku\n",
    "\n",
    "# Membuat tiga objek dari kelas Buku\n",
    "buku1 = Buku(\"Insecurity is My Middle Name\", \"Alvi Syahrin\", 2021)\n",
    "buku2 = Buku(\"Filosofi Teras\", \"Henry Manampiring\", 2018)\n",
    "buku3 = Buku(\"Laut Bercerita\", \"Leila S. Chudori\", 2017)\n",
    "\n",
    "# Menampilkan informasi dan usia masing-masing buku\n",
    "for buku in [buku1, buku2, buku3]:\n",
    "    buku.tampilkan_informasi()\n",
    "    print(f\"Usia Buku: {buku.hitung_usia_buku()} tahun\")\n",
    "    print()  # Baris kosong untuk pemisah antara buku"
   ]
  },
  {
   "cell_type": "markdown",
   "id": "1d22bcb7",
   "metadata": {},
   "source": [
    "INTERPRETASI: Program ini mendefinisikan kelas `Buku` yang digunakan untuk menyimpan dan mengelola informasi tentang buku, termasuk judul, penulis, dan tahun terbit. Kelas ini memiliki metode untuk menampilkan informasi buku dan menghitung usia buku berdasarkan tahun saat ini. Tiga objek buku dibuat dengan judul dan penulis yang berbeda, dan program kemudian menampilkan informasi serta usia masing-masing buku dengan memanggil metode yang sesuai. "
   ]
  },
  {
   "cell_type": "markdown",
   "id": "ad211da6",
   "metadata": {},
   "source": [
    "### 10. Buatlah program yang mengimplementasikan algoritma pencarian biner, namun dengan modifikasi: algoritma harus bisa mencari nilai di list yang hanya berisi angka genap, dan jika nilai yang dicari adalah angka ganjil, program harus menampilkan pesan bahwa nilai tersebut tidak bisa ditemukan."
   ]
  },
  {
   "cell_type": "code",
   "execution_count": 22,
   "id": "59ee484f",
   "metadata": {},
   "outputs": [
    {
     "name": "stdout",
     "output_type": "stream",
     "text": [
      "Masukkan nilai yang dicari: 10\n",
      "Nilai 10 ditemukan pada indeks ke 4\n"
     ]
    }
   ],
   "source": [
    "# SOAL NOMOR 10\n",
    "\n",
    "# Fungsi untuk melakukan pencarian biner\n",
    "def binary_search(arr, target):\n",
    "    # Menginisialisasi indeks rendah dan tinggi untuk pencarian\n",
    "    low = 0\n",
    "    high = len(arr) - 1\n",
    "    \n",
    "    # Melakukan pencarian selama indeks rendah tidak lebih besar dari tinggi\n",
    "    while low <= high:\n",
    "        mid = (low + high) // 2  # Menghitung indeks tengah\n",
    "        \n",
    "        # Jika elemen di indeks tengah sama dengan target, kembalikan indeks tengah\n",
    "        if arr[mid] == target:\n",
    "            return mid\n",
    "        \n",
    "        # Jika elemen di indeks tengah lebih kecil dari target, perbarui indeks rendah\n",
    "        elif arr[mid] < target:\n",
    "            low = mid + 1\n",
    "        \n",
    "        # Jika elemen di indeks tengah lebih besar dari target, perbarui indeks tinggi\n",
    "        else:\n",
    "            high = mid - 1\n",
    "    \n",
    "    return -1  # Jika target tidak ditemukan, kembalikan -1\n",
    "\n",
    "def main():\n",
    "    # Input list yang berisi angka genap\n",
    "    list_genap = [2, 4, 6, 8, 10, 12, 14, 16, 18, 20]\n",
    "    \n",
    "    # Menerima input nilai yang dicari dari pengguna\n",
    "    try:\n",
    "        nilai_dicari = int(input(\"Masukkan nilai yang dicari: \"))  # Mengambil input dari pengguna\n",
    "        \n",
    "        if nilai_dicari % 2 != 0:\n",
    "            # Jika nilai yang dicari adalah angka ganjil\n",
    "            print(\"Nilai yang dicari adalah angka ganjil dan tidak bisa ditemukan dalam list\")\n",
    "        else:\n",
    "            # Melakukan pencarian biner\n",
    "            hasil = binary_search(list_genap, nilai_dicari)\n",
    "            \n",
    "            if hasil != -1:\n",
    "                print(f\"Nilai {nilai_dicari} ditemukan pada indeks ke {hasil}\")\n",
    "            else:\n",
    "                print(f\"Nilai {nilai_dicari} tidak ditemukan dalam list\")\n",
    "    except ValueError:\n",
    "        # Menangani jika input tidak valid (bukan bilangan bulat)\n",
    "        print(\"Input tidak valid. Harap masukkan bilangan bulat.\")\n",
    "\n",
    "# Menjalankan fungsi main jika file ini dijalankan sebagai skrip\n",
    "if __name__ == \"__main__\":\n",
    "    main()"
   ]
  },
  {
   "cell_type": "markdown",
   "id": "be63eed8",
   "metadata": {},
   "source": [
    "INTERPRETASI: \n",
    "Program ini mengimplementasikan pencarian biner untuk menemukan nilai dalam daftar angka genap. Fungsi `binary_search(arr, target)` mencari target dalam daftar yang terurut dengan membagi daftar menjadi dua bagian hingga target ditemukan atau tidak ada. Fungsi `main()` meminta input dari pengguna dan memeriksa apakah input adalah angka genap. Jika input adalah angka ganjil, program memberi tahu pengguna bahwa nilai tersebut tidak bisa ditemukan dalam daftar. Jika input valid, program melanjutkan untuk melakukan pencarian biner dan mencetak hasilnya, apakah nilai ditemukan beserta indeksnya atau tidak ditemukan sama sekali."
   ]
  }
 ],
 "metadata": {
  "kernelspec": {
   "display_name": "Python 3 (ipykernel)",
   "language": "python",
   "name": "python3"
  },
  "language_info": {
   "codemirror_mode": {
    "name": "ipython",
    "version": 3
   },
   "file_extension": ".py",
   "mimetype": "text/x-python",
   "name": "python",
   "nbconvert_exporter": "python",
   "pygments_lexer": "ipython3",
   "version": "3.11.4"
  }
 },
 "nbformat": 4,
 "nbformat_minor": 5
}
