{
 "cells": [
  {
   "cell_type": "markdown",
   "id": "33908e8c",
   "metadata": {},
   "source": [
    "### 1. Buatlah program yang dapat menghasilkan pola berbentuk angka seperti di bawah ini, dengan syarat angka yang ditampilkan adalah hasil dari penjumlahan bilangan prima sebelumnya:\n",
    "\n",
    "```\n",
    "1\n",
    "2 3\n",
    "5 7 11\n",
    "13 17 19 23\n",
    "...\n",
    "```\n",
    "### Jumlah angka pada setiap baris bertambah 1, dan bilangan yang ditampilkan adalah bilangan prima."
   ]
  },
  {
   "cell_type": "code",
   "execution_count": 14,
   "id": "ef02e9d0",
   "metadata": {},
   "outputs": [
    {
     "name": "stdout",
     "output_type": "stream",
     "text": [
      "1\n",
      "2 3 \n",
      "5 7 11 \n",
      "13 17 19 23 \n"
     ]
    }
   ],
   "source": [
    "# SOAL NOMOR 1\n",
    "\n",
    "# Fungsi untuk memeriksa apakah sebuah angka adalah bilangan prima\n",
    "def is_prime(num):\n",
    "    if num < 2:\n",
    "        return False\n",
    "    for i in range(2, int(num**0.5) + 1):\n",
    "        if num % i == 0:\n",
    "            return False\n",
    "    return True\n",
    "\n",
    "# Fungsi untuk menghasilkan bilangan prima dalam jumlah tertentu\n",
    "def generate_primes(n):\n",
    "    primes = []\n",
    "    num = 2\n",
    "    while len(primes) < n:\n",
    "        if is_prime(num):\n",
    "            primes.append(num)\n",
    "        num += 1\n",
    "    return primes\n",
    "\n",
    "# Fungsi utama untuk menghasilkan pola angka\n",
    "def generate_pattern():\n",
    "    rows = 4  # Jumlah baris dalam pola\n",
    "    total_elements = sum(range(1, rows + 1)) - 1  # Jumlah total bilangan prima (baris pertama manual berisi 1)\n",
    "    \n",
    "    primes = generate_primes(total_elements)  # Menghasilkan bilangan prima yang diperlukan\n",
    "    index = 0\n",
    "    \n",
    "    # Mencetak angka 1 secara manual untuk baris pertama\n",
    "    print(1)\n",
    "    \n",
    "    # Memulai dari baris kedua dengan bilangan prima\n",
    "    for i in range(2, rows + 1):\n",
    "        for j in range(i):\n",
    "            print(primes[index], end=\" \")\n",
    "            index += 1\n",
    "        print()  # Pindah ke baris berikutnya\n",
    "\n",
    "# Menjalankan fungsi untuk menghasilkan pola\n",
    "generate_pattern()"
   ]
  },
  {
   "cell_type": "markdown",
   "id": "b123c60e",
   "metadata": {},
   "source": [
    "### 2. Buatlah sebuah fungsi yang menerima dua input berupa list angka. Fungsi ini harus mengembalikan sebuah list baru yang berisi elemen dari dua list input yang memiliki indeks ganjil. List baru tersebut juga harus diurutkan secara menurun berdasarkan nilai elemen."
   ]
  },
  {
   "cell_type": "code",
   "execution_count": 8,
   "id": "e2ba2db0",
   "metadata": {},
   "outputs": [
    {
     "name": "stdout",
     "output_type": "stream",
     "text": [
      "[45, 40, 25, 20]\n"
     ]
    }
   ],
   "source": [
    "# SOAL NOMOR 2\n",
    "\n",
    "def odd_index_elements_desc(list1, list2):\n",
    "    # Mengambil elemen dari indeks ganjil\n",
    "    result = list1[1::2] + list2[1::2]\n",
    "    \n",
    "    # Mengurutkan secara menurun\n",
    "    result.sort(reverse=True)\n",
    "    \n",
    "    return result\n",
    "\n",
    "# Contoh penggunaan\n",
    "list1 = [10, 20, 30, 40, 50]\n",
    "list2 = [15, 25, 35, 45, 55]\n",
    "\n",
    "print(odd_index_elements_desc(list1, list2))"
   ]
  },
  {
   "cell_type": "markdown",
   "id": "96635b7b",
   "metadata": {},
   "source": [
    "### 3. Buat sebuah program untuk mensimulasikan transaksi ATM. Program harus: \n",
    "- Meminta pengguna memasukkan PIN (dibatasi 3 kali percobaan). \n",
    "- Setelah PIN benar, meminta jumlah penarikan. \n",
    "- Jika saldo kurang dari jumlah yang ditarik, munculkan pesan kesalahan. \n",
    "- Jika penarikan berhasil, tampilkan saldo akhir."
   ]
  },
  {
   "cell_type": "code",
   "execution_count": 10,
   "id": "3f616772",
   "metadata": {},
   "outputs": [
    {
     "name": "stdout",
     "output_type": "stream",
     "text": [
      "Masukkan PIN Anda: 1234\n",
      "PIN benar.\n",
      "Masukkan jumlah penarikan: 1000000\n",
      "Penarikan berhasil. Sisa saldo Anda: Rp 4000000.00\n"
     ]
    }
   ],
   "source": [
    "# SOAL NOMOR 3\n",
    "\n",
    "# Fungsi untuk memeriksa PIN\n",
    "def check_pin(correct_pin, max_attempts=3):\n",
    "    attempts = 0\n",
    "    while attempts < max_attempts:\n",
    "        entered_pin = input(\"Masukkan PIN Anda: \")\n",
    "        if entered_pin == correct_pin:\n",
    "            return True\n",
    "        else:\n",
    "            attempts += 1\n",
    "            print(f\"PIN salah. Percobaan {attempts}/{max_attempts}.\")\n",
    "    return False\n",
    "\n",
    "# Fungsi untuk mensimulasikan penarikan uang dari saldo\n",
    "def withdraw(saldo):\n",
    "    try:\n",
    "        amount = float(input(\"Masukkan jumlah penarikan: \"))\n",
    "        if amount > saldo:\n",
    "            print(\"Saldo tidak mencukupi.\")\n",
    "        else:\n",
    "            saldo -= amount\n",
    "            print(f\"Penarikan berhasil. Sisa saldo Anda: Rp {saldo:.2f}\")\n",
    "    except ValueError:\n",
    "        print(\"Input tidak valid. Masukkan jumlah angka yang benar.\")\n",
    "    return saldo\n",
    "\n",
    "# Fungsi utama simulasi ATM\n",
    "def atm_simulation():\n",
    "    correct_pin = \"1234\"  # PIN yang benar untuk simulasi\n",
    "    saldo = 5000000.00  # Saldo awal\n",
    "    \n",
    "    # Memeriksa PIN\n",
    "    if check_pin(correct_pin):\n",
    "        print(\"PIN benar.\")\n",
    "        saldo = withdraw(saldo)\n",
    "    else:\n",
    "        print(\"Akses diblokir setelah 3 kali percobaan PIN salah.\")\n",
    "\n",
    "# Menjalankan program\n",
    "atm_simulation()"
   ]
  },
  {
   "cell_type": "markdown",
   "id": "fdbba8be",
   "metadata": {},
   "source": [
    "### 4. Anda diberikan file CSV berisi data nilai ujian mahasiswa. Tugas Anda adalah menulis sebuah program yang: \n",
    "- Membaca file CSV dan menyimpan datanya ke dalam dictionary. \n",
    "- Menghitung rata-rata nilai tiap mahasiswa. \n",
    "- Menampilkan mahasiswa dengan nilai tertinggi dan terendah."
   ]
  },
  {
   "cell_type": "code",
   "execution_count": 16,
   "id": "1af13835",
   "metadata": {},
   "outputs": [
    {
     "name": "stdout",
     "output_type": "stream",
     "text": [
      "File data_nilai_mahasiswa.csv tidak ditemukan. Pastikan file berada di lokasi yang benar.\n",
      "Tidak ada data mahasiswa yang valid untuk diproses.\n"
     ]
    }
   ],
   "source": [
    "# SOAL NOMOR 4\n",
    "\n",
    "import csv\n",
    "\n",
    "# Fungsi untuk membaca file CSV dan menyimpan data ke dalam dictionary\n",
    "def read_csv_to_dict(filename):\n",
    "    student_scores = {}\n",
    "    \n",
    "    try:\n",
    "        with open(filename, mode='r') as file:\n",
    "            csv_reader = csv.reader(file)\n",
    "            header = next(csv_reader)  # Lewati header\n",
    "            \n",
    "            for row in csv_reader:\n",
    "                name = row[0]\n",
    "                # Konversi nilai menjadi float untuk menjaga presisi angka desimal\n",
    "                try:\n",
    "                    scores = list(map(float, row[1:]))\n",
    "                except ValueError:\n",
    "                    print(f\"Error converting scores to numbers for student {name}\")\n",
    "                    continue\n",
    "                student_scores[name] = scores\n",
    "    \n",
    "    except FileNotFoundError:\n",
    "        print(f\"File {filename} tidak ditemukan. Pastikan file berada di lokasi yang benar.\")\n",
    "    \n",
    "    return student_scores\n",
    "\n",
    "# Fungsi untuk menghitung rata-rata nilai tiap mahasiswa\n",
    "def calculate_average_scores(student_scores):\n",
    "    student_averages = {}\n",
    "    \n",
    "    for student, scores in student_scores.items():\n",
    "        if scores:  # Memastikan ada nilai yang dihitung\n",
    "            average = sum(scores) / len(scores)\n",
    "            student_averages[student] = average\n",
    "        else:\n",
    "            student_averages[student] = 0  # Jika tidak ada nilai, rata-rata adalah 0\n",
    "    \n",
    "    return student_averages\n",
    "\n",
    "# Fungsi untuk mencari mahasiswa dengan nilai tertinggi dan terendah\n",
    "def find_highest_and_lowest(student_averages):\n",
    "    highest_student = max(student_averages, key=student_averages.get)\n",
    "    lowest_student = min(student_averages, key=student_averages.get)\n",
    "    \n",
    "    return highest_student, lowest_student\n",
    "\n",
    "# Fungsi utama\n",
    "def main():\n",
    "    # Nama file CSV\n",
    "    filename = 'data_nilai_mahasiswa.csv'\n",
    "    \n",
    "    # Membaca data dari file CSV\n",
    "    student_scores = read_csv_to_dict(filename)\n",
    "    \n",
    "    # Jika tidak ada data, keluar dari program\n",
    "    if not student_scores:\n",
    "        print(\"Tidak ada data mahasiswa yang valid untuk diproses.\")\n",
    "        return\n",
    "    \n",
    "    # Menghitung rata-rata nilai tiap mahasiswa\n",
    "    student_averages = calculate_average_scores(student_scores)\n",
    "    \n",
    "    # Menampilkan hasil rata-rata tiap mahasiswa\n",
    "    print(\"Rata-rata nilai mahasiswa:\")\n",
    "    for student, avg in student_averages.items():\n",
    "        print(f\"{student}: {avg:.2f}\")\n",
    "    \n",
    "    # Mencari mahasiswa dengan nilai tertinggi dan terendah\n",
    "    highest, lowest = find_highest_and_lowest(student_averages)\n",
    "    \n",
    "    print(f\"\\nMahasiswa dengan nilai tertinggi: {highest} - {student_averages[highest]:.2f}\")\n",
    "    print(f\"Mahasiswa dengan nilai terendah: {lowest} - {student_averages[lowest]:.2f}\")\n",
    "\n",
    "# Menjalankan program\n",
    "if __name__ == \"__main__\":\n",
    "    main()"
   ]
  },
  {
   "cell_type": "markdown",
   "id": "6a39becd",
   "metadata": {},
   "source": [
    "### 5. Buatlah permainan sederhana menggunakan Python, di mana komputer akan memilih sebuah angka secara acak antara 1 hingga 100, dan pengguna harus menebak angka tersebut. Setiap tebakan yang salah akan memberikan petunjuk apakah angka yang ditebak lebih besar atau lebih kecil dari angka sebenarnya. Batasi jumlah percobaan menjadi 5 kali. Setelah permainan selesai, tampilkan apakah pemain menang atau kalah."
   ]
  },
  {
   "cell_type": "code",
   "execution_count": 17,
   "id": "df38049a",
   "metadata": {},
   "outputs": [
    {
     "name": "stdout",
     "output_type": "stream",
     "text": [
      "Selamat datang di permainan Tebak Angka!\n",
      "Saya telah memilih sebuah angka antara 1 hingga 100.\n",
      "Anda memiliki 5 kali kesempatan untuk menebaknya.\n",
      "Tebakan 1: Masukkan angka (1-100): 91\n",
      "Tebakan Anda terlalu besar.\n",
      "Tebakan 2: Masukkan angka (1-100): 11\n",
      "Tebakan Anda terlalu besar.\n",
      "Tebakan 3: Masukkan angka (1-100): 1\n",
      "Tebakan Anda terlalu kecil.\n",
      "Tebakan 4: Masukkan angka (1-100): 7\n",
      "Tebakan Anda terlalu kecil.\n",
      "Tebakan 5: Masukkan angka (1-100): 9\n",
      "Selamat! Anda menebak angka yang benar: 9\n"
     ]
    }
   ],
   "source": [
    "# SOAL NOMOR 5\n",
    "\n",
    "import random\n",
    "\n",
    "def tebak_angka():\n",
    "    angka_rahasia = random.randint(1, 100)  # Komputer memilih angka acak antara 1-100\n",
    "    percobaan = 5  # Batasi jumlah percobaan menjadi 5\n",
    "    \n",
    "    print(\"Selamat datang di permainan Tebak Angka!\")\n",
    "    print(\"Saya telah memilih sebuah angka antara 1 hingga 100.\")\n",
    "    print(f\"Anda memiliki {percobaan} kali kesempatan untuk menebaknya.\")\n",
    "    \n",
    "    # Memulai loop permainan\n",
    "    for kesempatan in range(1, percobaan + 1):\n",
    "        try:\n",
    "            tebakan = int(input(f\"Tebakan {kesempatan}: Masukkan angka (1-100): \"))\n",
    "            \n",
    "            if tebakan < 1 or tebakan > 100:\n",
    "                print(\"Mohon masukkan angka antara 1 dan 100.\")\n",
    "                continue\n",
    "            \n",
    "            if tebakan == angka_rahasia:\n",
    "                print(f\"Selamat! Anda menebak angka yang benar: {angka_rahasia}\")\n",
    "                break\n",
    "            elif tebakan < angka_rahasia:\n",
    "                print(\"Tebakan Anda terlalu kecil.\")\n",
    "            else:\n",
    "                print(\"Tebakan Anda terlalu besar.\")\n",
    "        \n",
    "        except ValueError:\n",
    "            print(\"Mohon masukkan angka yang valid.\")\n",
    "            continue\n",
    "        \n",
    "    else:\n",
    "        # Jika loop berakhir dan tidak ada tebakan yang benar\n",
    "        print(f\"Maaf, Anda kehabisan kesempatan. Angka yang benar adalah {angka_rahasia}.\")\n",
    "\n",
    "# Menjalankan permainan\n",
    "tebak_angka()"
   ]
  },
  {
   "cell_type": "markdown",
   "id": "4bbce2e5",
   "metadata": {},
   "source": [
    "### 6. Buat fungsi rekursif yang menerima input bilangan bulat `n` dan menghasilkan urutan bilangan seperti berikut ini:\n",
    "```\n",
    "Input: n = 4\n",
    "Output: 1, 1, 2, 6, 24\n",
    "```\n",
    "### Fungsi ini harus menggunakan konsep rekursi untuk menghitung faktorial setiap angka hingga `n"
   ]
  },
  {
   "cell_type": "code",
   "execution_count": 20,
   "id": "b55fc06f",
   "metadata": {},
   "outputs": [
    {
     "name": "stdout",
     "output_type": "stream",
     "text": [
      "Masukkan bilangan bulat n: 4\n",
      "Output: 1, 1, 2, 6, 24\n"
     ]
    }
   ],
   "source": [
    "# SOAL NOMOR 6\n",
    "\n",
    "# Fungsi rekursif untuk menghitung faktorial\n",
    "def faktorial(n):\n",
    "    \"\"\"\n",
    "    Menghitung faktorial dari n secara rekursif.\n",
    "    Faktorial dari 0 atau 1 adalah 1.\n",
    "    Faktorial dari n (n > 1) adalah n * faktorial(n-1).\n",
    "    \"\"\"\n",
    "    if n == 0 or n == 1:  # Basis rekursi: faktorial 0 dan 1 adalah 1\n",
    "        return 1\n",
    "    else:\n",
    "        return n * faktorial(n - 1)  # Rekursi: n * faktorial(n-1)\n",
    "\n",
    "# Fungsi untuk menghasilkan urutan faktorial hingga n\n",
    "def urutan_faktorial(n):\n",
    "    \"\"\"\n",
    "    Menghasilkan urutan faktorial dari 0 hingga n.\n",
    "    \"\"\"\n",
    "    hasil = []  # List untuk menyimpan hasil faktorial\n",
    "    for i in range(n + 1):  # Iterasi dari 0 hingga n\n",
    "        hasil.append(faktorial(i))  # Menghitung faktorial setiap angka hingga n\n",
    "    return hasil\n",
    "\n",
    "# Menyediakan input dan mencetak output\n",
    "def main():\n",
    "    try:\n",
    "        n = int(input(\"Masukkan bilangan bulat n: \"))  # Menerima input dari pengguna dan mengonversinya ke integer\n",
    "        if n < 0:\n",
    "            print(\"Bilangan harus >= 0.\")\n",
    "        else:\n",
    "            output = urutan_faktorial(n)  # Menghasilkan urutan faktorial hingga n\n",
    "            print(\"Output:\", \", \".join(map(str, output)))  # Mencetak hasil sebagai string, dipisahkan oleh koma\n",
    "    except ValueError:\n",
    "        print(\"Input tidak valid. Harap masukkan bilangan bulat.\")\n",
    "\n",
    "# Menjalankan fungsi utama jika file dijalankan sebagai skrip utama\n",
    "if __name__ == \"__main__\":\n",
    "    main()"
   ]
  },
  {
   "cell_type": "markdown",
   "id": "4023a60d",
   "metadata": {},
   "source": [
    "### 7. Buatlah program untuk memecahkan masalah \"minimum coin change\". Diberikan jumlah uang dan daftar nilai koin yang tersedia (misalnya, 1, 5, 10, 25), tentukan kombinasi minimum koin yang diperlukan untuk mencapai jumlah uang tersebut. Namun, program Anda harus bisa menangani koin-koin yang nilai dan jumlahnya ditentukan pengguna."
   ]
  },
  {
   "cell_type": "code",
   "execution_count": 25,
   "id": "8f51e847",
   "metadata": {},
   "outputs": [
    {
     "name": "stdout",
     "output_type": "stream",
     "text": [
      "Masukkan jumlah uang yang ingin dicapai: 91\n",
      "Masukkan daftar nilai koin (pisahkan dengan spasi): 1 5 10 25\n",
      "Koin yang digunakan: [1, 5, 10, 25, 25, 25]\n"
     ]
    }
   ],
   "source": [
    "# SOAL NOMOR 7\n",
    "\n",
    "def min_coin_change(total, coins):\n",
    "    \n",
    "    # Inisialisasi DP table untuk menyimpan jumlah minimum koin untuk setiap nilai dari 0 hingga total\n",
    "    dp = [float('inf')] * (total + 1)\n",
    "    dp[0] = 0  # Basis: 0 koin diperlukan untuk mencapai total 0\n",
    "    \n",
    "    # Inisialisasi table untuk melacak koin yang digunakan\n",
    "    used_coins = [0] * (total + 1)\n",
    "    \n",
    "    # Mengisi DP table\n",
    "    for i in range(1, total + 1):\n",
    "        for coin in coins:\n",
    "            if i - coin >= 0 and dp[i - coin] != float('inf'):\n",
    "                if dp[i - coin] + 1 < dp[i]:\n",
    "                    dp[i] = dp[i - coin] + 1\n",
    "                    used_coins[i] = coin\n",
    "    \n",
    "    # Jika dp[total] masih inf, artinya tidak mungkin mencapai jumlah uang tersebut\n",
    "    if dp[total] == float('inf'):\n",
    "        return \"Tidak mungkin mencapai jumlah uang tersebut dengan koin yang tersedia.\"\n",
    "    \n",
    "    # Menentukan kombinasi koin yang digunakan\n",
    "    result = []\n",
    "    while total > 0:\n",
    "        result.append(used_coins[total])\n",
    "        total -= used_coins[total]\n",
    "    \n",
    "    return result\n",
    "\n",
    "def main():\n",
    "    try:\n",
    "        total = int(input(\"Masukkan jumlah uang yang ingin dicapai: \"))  # Input jumlah uang\n",
    "        coins = list(map(int, input(\"Masukkan daftar nilai koin (pisahkan dengan spasi): \").split()))  # Input daftar koin\n",
    "        \n",
    "        if total < 0 or any(coin <= 0 for coin in coins):\n",
    "            print(\"Jumlah uang dan nilai koin harus lebih besar dari 0.\")\n",
    "        else:\n",
    "            result = min_coin_change(total, coins)\n",
    "            print(\"Koin yang digunakan:\", result)\n",
    "    except ValueError:\n",
    "        print(\"Input tidak valid. Harap masukkan bilangan bulat yang sesuai.\")\n",
    "\n",
    "if __name__ == \"__main__\":\n",
    "    main()"
   ]
  },
  {
   "cell_type": "markdown",
   "id": "ecb39d78",
   "metadata": {},
   "source": [
    "### 8. Buat sebuah program yang menerima string dari pengguna dan mengonversi string tersebut menjadi sebuah list berisi kata-kata terbalik. Misalnya:\n",
    "```\n",
    "Input: \"Saya suka Python\"\n",
    "Output: [\"ayaS\", \"akus\", \"nohtyP\"]\n",
    "```"
   ]
  },
  {
   "cell_type": "code",
   "execution_count": 24,
   "id": "5a479c8c",
   "metadata": {},
   "outputs": [
    {
     "name": "stdout",
     "output_type": "stream",
     "text": [
      "Masukkan string: Saya Suka Python\n",
      "Output: ['ayaS', 'akuS', 'nohtyP']\n"
     ]
    }
   ],
   "source": [
    "# SOAL NOMOR 8\n",
    "\n",
    "def reverse_words(input_string):\n",
    "   \n",
    "    # Memecah string input menjadi daftar kata-kata\n",
    "    words = input_string.split()\n",
    "    \n",
    "    # Membalikkan setiap kata dalam daftar kata-kata\n",
    "    reversed_words = [word[::-1] for word in words]\n",
    "    \n",
    "    return reversed_words\n",
    "\n",
    "def main():\n",
    "    # Menerima input string dari pengguna\n",
    "    input_string = input(\"Masukkan string: \")\n",
    "    \n",
    "    # Mendapatkan list kata-kata terbalik\n",
    "    result = reverse_words(input_string)\n",
    "    \n",
    "    # Menampilkan hasil\n",
    "    print(\"Output:\", result)\n",
    "\n",
    "# Menjalankan fungsi utama jika file dijalankan sebagai skrip utama\n",
    "if __name__ == \"__main__\":\n",
    "    main()"
   ]
  },
  {
   "cell_type": "markdown",
   "id": "5f758747",
   "metadata": {},
   "source": [
    "### 9. Buat class bernama `Buku` yang memiliki atribut `judul`, `penulis`, dan `tahun_terbit`. Buat method dalam class untuk menampilkan informasi buku, serta method untuk menghitung usia buku berdasarkan tahun saat ini. Buatlah 3 objek dari class `Buku` dan tampilkan informasi serta usia masing-masing buku."
   ]
  },
  {
   "cell_type": "code",
   "execution_count": 28,
   "id": "46bc68ba",
   "metadata": {},
   "outputs": [
    {
     "name": "stdout",
     "output_type": "stream",
     "text": [
      "Judul: Insecurity is My Middle Name\n",
      "Penulis: Alvi Syahrin\n",
      "Tahun Terbit: 2021\n",
      "Usia Buku: 3 tahun\n",
      "\n",
      "Judul: Filosofi Teras\n",
      "Penulis: Henry Manampiring\n",
      "Tahun Terbit: 2018\n",
      "Usia Buku: 6 tahun\n",
      "\n",
      "Judul: Laut Bercerita\n",
      "Penulis: Leila S. Chudori\n",
      "Tahun Terbit: 2017\n",
      "Usia Buku: 7 tahun\n",
      "\n"
     ]
    }
   ],
   "source": [
    "# SOAL NOMOR 9\n",
    "\n",
    "from datetime import datetime\n",
    "\n",
    "class Buku:\n",
    "    def __init__(self, judul, penulis, tahun_terbit):\n",
    "        \n",
    "        self.judul = judul\n",
    "        self.penulis = penulis\n",
    "        self.tahun_terbit = tahun_terbit\n",
    "    \n",
    "    def tampilkan_informasi(self):\n",
    "        \n",
    "        print(f\"Judul: {self.judul}\")\n",
    "        print(f\"Penulis: {self.penulis}\")\n",
    "        print(f\"Tahun Terbit: {self.tahun_terbit}\")\n",
    "    \n",
    "    def hitung_usia_buku(self):\n",
    "       \n",
    "        tahun_sekarang = datetime.now().year\n",
    "        return tahun_sekarang - self.tahun_terbit\n",
    "\n",
    "# Membuat tiga objek dari kelas Buku\n",
    "buku1 = Buku(\"Insecurity is My Middle Name\", \"Alvi Syahrin\", 2021)\n",
    "buku2 = Buku(\"Filosofi Teras\", \"Henry Manampiring\", 2018)\n",
    "buku3 = Buku(\"Laut Bercerita\", \"Leila S. Chudori\", 2017)\n",
    "\n",
    "# Menampilkan informasi dan usia masing-masing buku\n",
    "for buku in [buku1, buku2, buku3]:\n",
    "    buku.tampilkan_informasi()\n",
    "    print(f\"Usia Buku: {buku.hitung_usia_buku()} tahun\")\n",
    "    print()  # Baris kosong untuk pemisah antara buku"
   ]
  },
  {
   "cell_type": "markdown",
   "id": "ad211da6",
   "metadata": {},
   "source": [
    "### 10. Buatlah program yang mengimplementasikan algoritma pencarian biner, namun dengan modifikasi: algoritma harus bisa mencari nilai di list yang hanya berisi angka genap, dan jika nilai yang dicari adalah angka ganjil, program harus menampilkan pesan bahwa nilai tersebut tidak bisa ditemukan."
   ]
  },
  {
   "cell_type": "code",
   "execution_count": 27,
   "id": "59ee484f",
   "metadata": {},
   "outputs": [
    {
     "name": "stdout",
     "output_type": "stream",
     "text": [
      "Masukkan nilai yang dicari: 10\n",
      "Nilai 10 ditemukan di indeks 4.\n"
     ]
    }
   ],
   "source": [
    "# SOAL NOMOR 10\n",
    "\n",
    "def binary_search(arr, target):\n",
    "   \n",
    "    low = 0\n",
    "    high = len(arr) - 1\n",
    "    \n",
    "    while low <= high:\n",
    "        mid = (low + high) // 2\n",
    "        if arr[mid] == target:\n",
    "            return mid\n",
    "        elif arr[mid] < target:\n",
    "            low = mid + 1\n",
    "        else:\n",
    "            high = mid - 1\n",
    "    \n",
    "    return -1\n",
    "\n",
    "def main():\n",
    "    # Input list yang berisi angka genap\n",
    "    list_genap = [2, 4, 6, 8, 10, 12, 14, 16, 18, 20]\n",
    "    \n",
    "    # Menerima input nilai yang dicari dari pengguna\n",
    "    try:\n",
    "        nilai_dicari = int(input(\"Masukkan nilai yang dicari: \"))\n",
    "        \n",
    "        if nilai_dicari % 2 != 0:\n",
    "            # Jika nilai yang dicari adalah angka ganjil\n",
    "            print(\"Nilai yang dicari adalah angka ganjil dan tidak bisa ditemukan dalam list.\")\n",
    "        else:\n",
    "            # Melakukan pencarian biner\n",
    "            hasil = binary_search(list_genap, nilai_dicari)\n",
    "            \n",
    "            if hasil != -1:\n",
    "                print(f\"Nilai {nilai_dicari} ditemukan di indeks {hasil}.\")\n",
    "            else:\n",
    "                print(f\"Nilai {nilai_dicari} tidak ditemukan dalam list.\")\n",
    "    except ValueError:\n",
    "        print(\"Input tidak valid. Harap masukkan bilangan bulat.\")\n",
    "\n",
    "if __name__ == \"__main__\":\n",
    "    main()"
   ]
  }
 ],
 "metadata": {
  "kernelspec": {
   "display_name": "Python 3 (ipykernel)",
   "language": "python",
   "name": "python3"
  },
  "language_info": {
   "codemirror_mode": {
    "name": "ipython",
    "version": 3
   },
   "file_extension": ".py",
   "mimetype": "text/x-python",
   "name": "python",
   "nbconvert_exporter": "python",
   "pygments_lexer": "ipython3",
   "version": "3.11.4"
  }
 },
 "nbformat": 4,
 "nbformat_minor": 5
}
